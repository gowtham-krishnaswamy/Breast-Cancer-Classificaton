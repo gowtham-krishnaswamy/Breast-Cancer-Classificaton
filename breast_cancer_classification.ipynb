{
 "cells": [
  {
   "cell_type": "markdown",
   "metadata": {},
   "source": [
    "# SVM CLASSIFIER"
   ]
  },
  {
   "cell_type": "markdown",
   "metadata": {},
   "source": [
    "In this notebook we will use  SVM/kernel SVM from sklearn. We know that SVM prime objective is\n",
    "\n",
    "$\\min_{w, w_0} \\frac{1}{2}||w||^2 + C \\sum_{i=1}^{N} \\xi_i$ st $y_i(w^T +w_0) \\gt 1 $  for $\\forall i$\n",
    "\n",
    "Note the label is $(+1, -1)$ instead of $(0, 1)$"
   ]
  },
  {
   "cell_type": "code",
   "execution_count": 37,
   "metadata": {},
   "outputs": [],
   "source": [
    "from sklearn.datasets import load_breast_cancer\n",
    "import numpy as np\n",
    "import matplotlib.pyplot as plt\n",
    "%matplotlib inline\n"
   ]
  },
  {
   "cell_type": "code",
   "execution_count": 38,
   "metadata": {},
   "outputs": [],
   "source": [
    "data = load_breast_cancer()"
   ]
  },
  {
   "cell_type": "code",
   "execution_count": 39,
   "metadata": {},
   "outputs": [
    {
     "data": {
      "text/plain": [
       "['malignant', 'benign']"
      ]
     },
     "execution_count": 39,
     "metadata": {},
     "output_type": "execute_result"
    }
   ],
   "source": [
    "list(data.target_names)"
   ]
  },
  {
   "cell_type": "code",
   "execution_count": 40,
   "metadata": {},
   "outputs": [
    {
     "data": {
      "text/plain": [
       "30"
      ]
     },
     "execution_count": 40,
     "metadata": {},
     "output_type": "execute_result"
    }
   ],
   "source": [
    "len(data.feature_names)"
   ]
  },
  {
   "cell_type": "code",
   "execution_count": 41,
   "metadata": {},
   "outputs": [],
   "source": [
    "X = data.data\n",
    "y= data.target"
   ]
  },
  {
   "cell_type": "code",
   "execution_count": 42,
   "metadata": {},
   "outputs": [
    {
     "data": {
      "text/plain": [
       "array([0, 0, 0, 0, 0, 0, 0, 0, 0, 0, 0, 0, 0, 0, 0, 0, 0, 0, 0, 1, 1, 1,\n",
       "       0, 0, 0, 0, 0, 0, 0, 0])"
      ]
     },
     "execution_count": 42,
     "metadata": {},
     "output_type": "execute_result"
    }
   ],
   "source": [
    "\n",
    "y[0:30]"
   ]
  },
  {
   "cell_type": "markdown",
   "metadata": {},
   "source": [
    "# Standardizing the features"
   ]
  },
  {
   "cell_type": "code",
   "execution_count": 43,
   "metadata": {},
   "outputs": [],
   "source": [
    "from sklearn.preprocessing import StandardScaler"
   ]
  },
  {
   "cell_type": "code",
   "execution_count": 44,
   "metadata": {},
   "outputs": [],
   "source": [
    "scaler = StandardScaler()\n",
    "scaler.fit(X)\n",
    "X1 = scaler.transform(X)"
   ]
  },
  {
   "cell_type": "code",
   "execution_count": 45,
   "metadata": {},
   "outputs": [
    {
     "data": {
      "text/plain": [
       "array([ 3.97128765,  4.65188898,  3.97612984,  5.25052883,  4.77091122,\n",
       "        4.56842498,  4.24358882,  3.92792966,  4.48475086,  4.91091929,\n",
       "        8.90690934,  6.65527935,  9.46198577, 11.04184226,  8.02999927,\n",
       "        6.14348219, 12.0726804 ,  6.64960079,  7.07191706,  9.85159257,\n",
       "        4.09418939,  3.88590505,  4.28733746,  5.9301724 ,  3.95537411,\n",
       "        5.11287727,  4.7006688 ,  2.68587702,  6.04604135,  6.84685604])"
      ]
     },
     "execution_count": 45,
     "metadata": {},
     "output_type": "execute_result"
    }
   ],
   "source": [
    "np.max(X1, axis=0)"
   ]
  },
  {
   "cell_type": "code",
   "execution_count": 46,
   "metadata": {},
   "outputs": [],
   "source": [
    "X= X1"
   ]
  },
  {
   "cell_type": "markdown",
   "metadata": {},
   "source": [
    "We are going to use k fold cross validation hence only splitting data into train and test."
   ]
  },
  {
   "cell_type": "code",
   "execution_count": 47,
   "metadata": {},
   "outputs": [],
   "source": [
    "from sklearn.model_selection import train_test_split"
   ]
  },
  {
   "cell_type": "code",
   "execution_count": 48,
   "metadata": {},
   "outputs": [],
   "source": [
    "X_train, X_test, y_train, y_test = train_test_split(X, y, test_size=0.4, random_state=1)"
   ]
  },
  {
   "cell_type": "markdown",
   "metadata": {},
   "source": [
    "# Using SVM from sci-kit learn"
   ]
  },
  {
   "cell_type": "code",
   "execution_count": 49,
   "metadata": {},
   "outputs": [
    {
     "data": {
      "text/plain": [
       "LinearSVC(C=1.0, class_weight=None, dual=True, fit_intercept=True,\n",
       "          intercept_scaling=1, loss='squared_hinge', max_iter=1000,\n",
       "          multi_class='ovr', penalty='l2', random_state=None, tol=0.0001,\n",
       "          verbose=0)"
      ]
     },
     "execution_count": 49,
     "metadata": {},
     "output_type": "execute_result"
    }
   ],
   "source": [
    "from sklearn import svm\n",
    "clf = svm.LinearSVC() \n",
    "clf.fit(X_train, y_train)\n"
   ]
  },
  {
   "cell_type": "markdown",
   "metadata": {},
   "source": [
    "# Accuracy"
   ]
  },
  {
   "cell_type": "code",
   "execution_count": 50,
   "metadata": {},
   "outputs": [
    {
     "data": {
      "text/plain": [
       "0.9605263157894737"
      ]
     },
     "execution_count": 50,
     "metadata": {},
     "output_type": "execute_result"
    }
   ],
   "source": [
    "clf.score(X_test, y_test)"
   ]
  },
  {
   "cell_type": "code",
   "execution_count": 51,
   "metadata": {},
   "outputs": [],
   "source": [
    "y_test_pred = clf.predict(X_test)"
   ]
  },
  {
   "cell_type": "markdown",
   "metadata": {},
   "source": [
    "# Recall metric"
   ]
  },
  {
   "cell_type": "code",
   "execution_count": 52,
   "metadata": {},
   "outputs": [],
   "source": [
    "from sklearn.metrics import recall_score, precision_score, roc_curve, roc_auc_score, f1_score, fbeta_score, classification_report"
   ]
  },
  {
   "cell_type": "markdown",
   "metadata": {},
   "source": [
    "# Using sklearn to calculate recall, precision and f1 score"
   ]
  },
  {
   "cell_type": "code",
   "execution_count": 53,
   "metadata": {},
   "outputs": [
    {
     "name": "stdout",
     "output_type": "stream",
     "text": [
      "Recall: 0.9594594594594594\n",
      "Precision: 0.9793103448275862\n",
      "F1 Score: 0.9692832764505119\n"
     ]
    }
   ],
   "source": [
    "print(\"Recall:\", recall_score(y_test, y_test_pred))\n",
    "print(\"Precision:\", precision_score(y_test, y_test_pred))\n",
    "print(\"F1 Score:\", f1_score(y_test, y_test_pred))"
   ]
  },
  {
   "cell_type": "code",
   "execution_count": 54,
   "metadata": {},
   "outputs": [
    {
     "name": "stdout",
     "output_type": "stream",
     "text": [
      "Fbeta score: 0.9608872248992211\n"
     ]
    }
   ],
   "source": [
    "print(\"Fbeta score:\", fbeta_score(y_test, y_test_pred, beta = 0.6, average = 'weighted'))"
   ]
  },
  {
   "cell_type": "markdown",
   "metadata": {},
   "source": [
    "# Kernel SVM using sklearn\n",
    "\n",
    "We'll avoid writing loop for find best gamma and C(In ridge regression we wrote a loop to find best $\\lambda$). Instead, we'll use GridSearchCV interface to search for best hyper-parameters.\n",
    "\n",
    "\n",
    "GridSearchCV lets you combine an estimator(like Logistic regression, SVM etc.) with a grid search preamble to tune hyper-parameters. "
   ]
  },
  {
   "cell_type": "code",
   "execution_count": 55,
   "metadata": {},
   "outputs": [],
   "source": [
    "hyper_parameters = [{'kernel': ['rbf'], 'gamma': [1e-3, 1e-4],\n",
    "                     'C': [1, 10, 100, 1000]}]"
   ]
  },
  {
   "cell_type": "code",
   "execution_count": 56,
   "metadata": {},
   "outputs": [],
   "source": [
    "from sklearn.svm import SVC\n",
    "from sklearn.model_selection import GridSearchCV"
   ]
  },
  {
   "cell_type": "code",
   "execution_count": 57,
   "metadata": {},
   "outputs": [],
   "source": [
    "# We need probability also to plot ROC curve\n",
    "clf = GridSearchCV(SVC(probability=True), hyper_parameters, cv=5,\n",
    "                        verbose=10)"
   ]
  },
  {
   "cell_type": "markdown",
   "metadata": {},
   "source": [
    "You can see that with 2 values of gamma and 4 values of C, using 5 fold cross validation, we have to fit\n",
    "**4\\*2\\*5=40 different kernel SVMs.** Look at the output of fit method too.\n",
    "\n",
    "Also note that refit parameter in GridSearchCV is True, so once best model parameters are determined using cross validation, GridSearchCV return final trained model using best parameters on the full data."
   ]
  },
  {
   "cell_type": "code",
   "execution_count": 58,
   "metadata": {},
   "outputs": [
    {
     "name": "stdout",
     "output_type": "stream",
     "text": [
      "Fitting 5 folds for each of 8 candidates, totalling 40 fits\n",
      "[CV] C=1, gamma=0.001, kernel=rbf ....................................\n",
      "[CV] ........ C=1, gamma=0.001, kernel=rbf, score=0.899, total=   0.0s\n",
      "[CV] C=1, gamma=0.001, kernel=rbf ....................................\n",
      "[CV] ........ C=1, gamma=0.001, kernel=rbf, score=0.957, total=   0.0s\n",
      "[CV] C=1, gamma=0.001, kernel=rbf ....................................\n",
      "[CV] ........ C=1, gamma=0.001, kernel=rbf, score=0.941, total=   0.0s\n",
      "[CV] C=1, gamma=0.001, kernel=rbf ....................................\n",
      "[CV] ........ C=1, gamma=0.001, kernel=rbf, score=0.971, total=   0.0s\n",
      "[CV] C=1, gamma=0.001, kernel=rbf ....................................\n",
      "[CV] ........ C=1, gamma=0.001, kernel=rbf, score=0.940, total=   0.0s\n",
      "[CV] C=1, gamma=0.0001, kernel=rbf ...................................\n"
     ]
    },
    {
     "name": "stderr",
     "output_type": "stream",
     "text": [
      "[Parallel(n_jobs=1)]: Using backend SequentialBackend with 1 concurrent workers.\n",
      "[Parallel(n_jobs=1)]: Done   1 out of   1 | elapsed:    0.0s remaining:    0.0s\n",
      "[Parallel(n_jobs=1)]: Done   2 out of   2 | elapsed:    0.0s remaining:    0.0s\n",
      "[Parallel(n_jobs=1)]: Done   3 out of   3 | elapsed:    0.0s remaining:    0.0s\n",
      "[Parallel(n_jobs=1)]: Done   4 out of   4 | elapsed:    0.0s remaining:    0.0s\n",
      "[Parallel(n_jobs=1)]: Done   5 out of   5 | elapsed:    0.1s remaining:    0.0s\n"
     ]
    },
    {
     "name": "stdout",
     "output_type": "stream",
     "text": [
      "[CV] ....... C=1, gamma=0.0001, kernel=rbf, score=0.739, total=   0.0s\n",
      "[CV] C=1, gamma=0.0001, kernel=rbf ...................................\n",
      "[CV] ....... C=1, gamma=0.0001, kernel=rbf, score=0.681, total=   0.0s\n",
      "[CV] C=1, gamma=0.0001, kernel=rbf ...................................\n",
      "[CV] ....... C=1, gamma=0.0001, kernel=rbf, score=0.662, total=   0.0s\n",
      "[CV] C=1, gamma=0.0001, kernel=rbf ...................................\n",
      "[CV] ....... C=1, gamma=0.0001, kernel=rbf, score=0.721, total=   0.0s\n",
      "[CV] C=1, gamma=0.0001, kernel=rbf ...................................\n",
      "[CV] ....... C=1, gamma=0.0001, kernel=rbf, score=0.672, total=   0.0s\n",
      "[CV] C=10, gamma=0.001, kernel=rbf ...................................\n",
      "[CV] ....... C=10, gamma=0.001, kernel=rbf, score=0.899, total=   0.0s\n",
      "[CV] C=10, gamma=0.001, kernel=rbf ...................................\n",
      "[CV] ....... C=10, gamma=0.001, kernel=rbf, score=0.986, total=   0.0s"
     ]
    },
    {
     "name": "stderr",
     "output_type": "stream",
     "text": [
      "[Parallel(n_jobs=1)]: Done   6 out of   6 | elapsed:    0.1s remaining:    0.0s\n",
      "[Parallel(n_jobs=1)]: Done   7 out of   7 | elapsed:    0.1s remaining:    0.0s\n",
      "[Parallel(n_jobs=1)]: Done   8 out of   8 | elapsed:    0.2s remaining:    0.0s\n",
      "[Parallel(n_jobs=1)]: Done   9 out of   9 | elapsed:    0.2s remaining:    0.0s\n"
     ]
    },
    {
     "name": "stdout",
     "output_type": "stream",
     "text": [
      "\n",
      "[CV] C=10, gamma=0.001, kernel=rbf ...................................\n",
      "[CV] ....... C=10, gamma=0.001, kernel=rbf, score=1.000, total=   0.0s\n",
      "[CV] C=10, gamma=0.001, kernel=rbf ...................................\n",
      "[CV] ....... C=10, gamma=0.001, kernel=rbf, score=0.985, total=   0.0s\n",
      "[CV] C=10, gamma=0.001, kernel=rbf ...................................\n",
      "[CV] ....... C=10, gamma=0.001, kernel=rbf, score=0.970, total=   0.0s\n",
      "[CV] C=10, gamma=0.0001, kernel=rbf ..................................\n",
      "[CV] ...... C=10, gamma=0.0001, kernel=rbf, score=0.913, total=   0.0s\n",
      "[CV] C=10, gamma=0.0001, kernel=rbf ..................................\n",
      "[CV] ...... C=10, gamma=0.0001, kernel=rbf, score=0.957, total=   0.0s\n",
      "[CV] C=10, gamma=0.0001, kernel=rbf ..................................\n",
      "[CV] ...... C=10, gamma=0.0001, kernel=rbf, score=0.941, total=   0.0s\n",
      "[CV] C=10, gamma=0.0001, kernel=rbf ..................................\n",
      "[CV] ...... C=10, gamma=0.0001, kernel=rbf, score=0.971, total=   0.0s\n",
      "[CV] C=10, gamma=0.0001, kernel=rbf ..................................\n",
      "[CV] ...... C=10, gamma=0.0001, kernel=rbf, score=0.940, total=   0.0s\n",
      "[CV] C=100, gamma=0.001, kernel=rbf ..................................\n",
      "[CV] ...... C=100, gamma=0.001, kernel=rbf, score=0.913, total=   0.0s\n",
      "[CV] C=100, gamma=0.001, kernel=rbf ..................................\n",
      "[CV] ...... C=100, gamma=0.001, kernel=rbf, score=1.000, total=   0.0s\n",
      "[CV] C=100, gamma=0.001, kernel=rbf ..................................\n",
      "[CV] ...... C=100, gamma=0.001, kernel=rbf, score=1.000, total=   0.0s\n",
      "[CV] C=100, gamma=0.001, kernel=rbf ..................................\n",
      "[CV] ...... C=100, gamma=0.001, kernel=rbf, score=0.971, total=   0.0s\n",
      "[CV] C=100, gamma=0.001, kernel=rbf ..................................\n",
      "[CV] ...... C=100, gamma=0.001, kernel=rbf, score=0.970, total=   0.0s\n",
      "[CV] C=100, gamma=0.0001, kernel=rbf .................................\n",
      "[CV] ..... C=100, gamma=0.0001, kernel=rbf, score=0.899, total=   0.0s\n",
      "[CV] C=100, gamma=0.0001, kernel=rbf .................................\n",
      "[CV] ..... C=100, gamma=0.0001, kernel=rbf, score=0.986, total=   0.0s\n",
      "[CV] C=100, gamma=0.0001, kernel=rbf .................................\n",
      "[CV] ..... C=100, gamma=0.0001, kernel=rbf, score=1.000, total=   0.0s\n",
      "[CV] C=100, gamma=0.0001, kernel=rbf .................................\n",
      "[CV] ..... C=100, gamma=0.0001, kernel=rbf, score=0.985, total=   0.0s\n",
      "[CV] C=100, gamma=0.0001, kernel=rbf .................................\n",
      "[CV] ..... C=100, gamma=0.0001, kernel=rbf, score=0.970, total=   0.0s\n",
      "[CV] C=1000, gamma=0.001, kernel=rbf .................................\n",
      "[CV] ..... C=1000, gamma=0.001, kernel=rbf, score=0.913, total=   0.0s\n",
      "[CV] C=1000, gamma=0.001, kernel=rbf .................................\n",
      "[CV] ..... C=1000, gamma=0.001, kernel=rbf, score=1.000, total=   0.0s\n",
      "[CV] C=1000, gamma=0.001, kernel=rbf .................................\n",
      "[CV] ..... C=1000, gamma=0.001, kernel=rbf, score=0.985, total=   0.0s\n",
      "[CV] C=1000, gamma=0.001, kernel=rbf .................................\n",
      "[CV] ..... C=1000, gamma=0.001, kernel=rbf, score=0.971, total=   0.0s\n",
      "[CV] C=1000, gamma=0.001, kernel=rbf .................................\n",
      "[CV] ..... C=1000, gamma=0.001, kernel=rbf, score=0.985, total=   0.0s\n",
      "[CV] C=1000, gamma=0.0001, kernel=rbf ................................\n",
      "[CV] .... C=1000, gamma=0.0001, kernel=rbf, score=0.913, total=   0.0s\n",
      "[CV] C=1000, gamma=0.0001, kernel=rbf ................................\n",
      "[CV] .... C=1000, gamma=0.0001, kernel=rbf, score=1.000, total=   0.0s\n",
      "[CV] C=1000, gamma=0.0001, kernel=rbf ................................\n",
      "[CV] .... C=1000, gamma=0.0001, kernel=rbf, score=1.000, total=   0.0s\n",
      "[CV] C=1000, gamma=0.0001, kernel=rbf ................................\n",
      "[CV] .... C=1000, gamma=0.0001, kernel=rbf, score=0.971, total=   0.0s\n",
      "[CV] C=1000, gamma=0.0001, kernel=rbf ................................\n",
      "[CV] .... C=1000, gamma=0.0001, kernel=rbf, score=0.985, total=   0.0s\n"
     ]
    },
    {
     "name": "stderr",
     "output_type": "stream",
     "text": [
      "[Parallel(n_jobs=1)]: Done  40 out of  40 | elapsed:    0.7s finished\n"
     ]
    }
   ],
   "source": [
    "grid_search = clf.fit(X_train, y_train)"
   ]
  },
  {
   "cell_type": "markdown",
   "metadata": {},
   "source": [
    "We can use also use all the CPU core with n_jobs=-1, to train these 40 models in parallel.\n",
    "\n"
   ]
  },
  {
   "cell_type": "code",
   "execution_count": 60,
   "metadata": {},
   "outputs": [
    {
     "data": {
      "text/plain": [
       "SVC(C=1000, cache_size=200, class_weight=None, coef0=0.0,\n",
       "    decision_function_shape='ovr', degree=3, gamma=0.0001, kernel='rbf',\n",
       "    max_iter=-1, probability=True, random_state=None, shrinking=True, tol=0.001,\n",
       "    verbose=False)"
      ]
     },
     "execution_count": 60,
     "metadata": {},
     "output_type": "execute_result"
    }
   ],
   "source": [
    "grid_search.best_estimator_"
   ]
  },
  {
   "cell_type": "code",
   "execution_count": 61,
   "metadata": {},
   "outputs": [
    {
     "data": {
      "text/plain": [
       "0.9736070381231672"
      ]
     },
     "execution_count": 61,
     "metadata": {},
     "output_type": "execute_result"
    }
   ],
   "source": [
    "grid_search.best_score_"
   ]
  },
  {
   "cell_type": "markdown",
   "metadata": {},
   "source": [
    "# See the parameters selected by grid search."
   ]
  },
  {
   "cell_type": "code",
   "execution_count": 62,
   "metadata": {},
   "outputs": [
    {
     "data": {
      "text/plain": [
       "{'C': 1000, 'gamma': 0.0001, 'kernel': 'rbf'}"
      ]
     },
     "execution_count": 62,
     "metadata": {},
     "output_type": "execute_result"
    }
   ],
   "source": [
    "grid_search.best_params_"
   ]
  },
  {
   "cell_type": "code",
   "execution_count": 63,
   "metadata": {},
   "outputs": [
    {
     "data": {
      "text/plain": [
       "0.9649122807017544"
      ]
     },
     "execution_count": 63,
     "metadata": {},
     "output_type": "execute_result"
    }
   ],
   "source": [
    "grid_search.score(X_test, y_test)"
   ]
  },
  {
   "cell_type": "markdown",
   "metadata": {},
   "source": [
    "# Classification report"
   ]
  },
  {
   "cell_type": "code",
   "execution_count": 64,
   "metadata": {},
   "outputs": [
    {
     "name": "stdout",
     "output_type": "stream",
     "text": [
      "              precision    recall  f1-score   support\n",
      "\n",
      "           0       0.93      0.96      0.94        80\n",
      "           1       0.98      0.96      0.97       148\n",
      "\n",
      "    accuracy                           0.96       228\n",
      "   macro avg       0.95      0.96      0.96       228\n",
      "weighted avg       0.96      0.96      0.96       228\n",
      "\n"
     ]
    }
   ],
   "source": [
    "print(classification_report(y_test, y_test_pred))"
   ]
  },
  {
   "cell_type": "markdown",
   "metadata": {},
   "source": [
    "As per documentation\n",
    "\n",
    "**\"The refitted estimator is made available at the best_estimator_ attribute and permits using predict directly on this GridSearchCV instance.\"**"
   ]
  },
  {
   "cell_type": "markdown",
   "metadata": {},
   "source": [
    "# ROC Curve "
   ]
  },
  {
   "cell_type": "code",
   "execution_count": 65,
   "metadata": {},
   "outputs": [],
   "source": [
    "y_test_pred_prob = grid_search.predict_proba(X_test)"
   ]
  },
  {
   "cell_type": "code",
   "execution_count": 66,
   "metadata": {},
   "outputs": [
    {
     "data": {
      "text/plain": [
       "array([[1.95237718e-01, 8.04762282e-01],\n",
       "       [9.82822587e-01, 1.71774131e-02],\n",
       "       [1.99981891e-02, 9.80001811e-01],\n",
       "       [9.85900878e-01, 1.40991215e-02],\n",
       "       [8.91077075e-01, 1.08922925e-01],\n",
       "       [9.93215696e-01, 6.78430372e-03],\n",
       "       [9.99728633e-01, 2.71366763e-04],\n",
       "       [7.34078995e-01, 2.65921005e-01],\n",
       "       [1.03528010e-02, 9.89647199e-01],\n",
       "       [4.31903067e-02, 9.56809693e-01],\n",
       "       [4.73872180e-03, 9.95261278e-01],\n",
       "       [9.97744147e-01, 2.25585348e-03],\n",
       "       [9.50906410e-01, 4.90935897e-02],\n",
       "       [7.96385169e-03, 9.92036148e-01],\n",
       "       [4.68036916e-01, 5.31963084e-01],\n",
       "       [6.11782927e-02, 9.38821707e-01],\n",
       "       [2.84978365e-03, 9.97150216e-01],\n",
       "       [2.47458956e-02, 9.75254104e-01],\n",
       "       [3.76534224e-06, 9.99996235e-01],\n",
       "       [9.98901266e-01, 1.09873370e-03],\n",
       "       [1.04601197e-02, 9.89539880e-01],\n",
       "       [1.84471102e-02, 9.81552890e-01],\n",
       "       [9.99086265e-01, 9.13735014e-04],\n",
       "       [4.45006007e-02, 9.55499399e-01],\n",
       "       [9.85044902e-01, 1.49550982e-02],\n",
       "       [2.49623883e-02, 9.75037612e-01],\n",
       "       [2.97640524e-02, 9.70235948e-01],\n",
       "       [9.99933112e-01, 6.68883116e-05],\n",
       "       [9.99999900e-01, 1.00000010e-07],\n",
       "       [9.83977855e-01, 1.60221453e-02],\n",
       "       [9.99999598e-01, 4.01972198e-07],\n",
       "       [4.10214852e-03, 9.95897851e-01],\n",
       "       [9.99908127e-01, 9.18731278e-05],\n",
       "       [9.25574149e-01, 7.44258510e-02],\n",
       "       [9.64657280e-06, 9.99990353e-01],\n",
       "       [1.09199385e-05, 9.99989080e-01],\n",
       "       [9.79415623e-01, 2.05843770e-02],\n",
       "       [8.49284921e-02, 9.15071508e-01],\n",
       "       [5.87093735e-01, 4.12906265e-01],\n",
       "       [8.30263261e-03, 9.91697367e-01],\n",
       "       [1.75668114e-05, 9.99982433e-01],\n",
       "       [3.10647155e-01, 6.89352845e-01],\n",
       "       [7.34643817e-02, 9.26535618e-01],\n",
       "       [9.27349030e-06, 9.99990727e-01],\n",
       "       [3.45666630e-02, 9.65433337e-01],\n",
       "       [9.97045862e-01, 2.95413762e-03],\n",
       "       [1.36151463e-07, 9.99999864e-01],\n",
       "       [2.19417683e-06, 9.99997806e-01],\n",
       "       [4.26539403e-02, 9.57346060e-01],\n",
       "       [9.40476064e-01, 5.95239359e-02],\n",
       "       [9.99333773e-01, 6.66227261e-04],\n",
       "       [9.99999887e-01, 1.13393888e-07],\n",
       "       [1.34538306e-02, 9.86546169e-01],\n",
       "       [9.22195070e-07, 9.99999078e-01],\n",
       "       [1.43294578e-02, 9.85670542e-01],\n",
       "       [7.34092631e-03, 9.92659074e-01],\n",
       "       [1.09493422e-02, 9.89050658e-01],\n",
       "       [9.37756799e-01, 6.22432013e-02],\n",
       "       [1.55764245e-02, 9.84423575e-01],\n",
       "       [2.73001294e-07, 9.99999727e-01],\n",
       "       [3.27091536e-07, 9.99999673e-01],\n",
       "       [9.97870406e-01, 2.12959370e-03],\n",
       "       [2.33759354e-02, 9.76624065e-01],\n",
       "       [3.30357518e-02, 9.66964248e-01],\n",
       "       [4.28961041e-03, 9.95710390e-01],\n",
       "       [3.58882076e-03, 9.96411179e-01],\n",
       "       [1.78127553e-05, 9.99982187e-01],\n",
       "       [9.99920360e-01, 7.96402421e-05],\n",
       "       [4.09556599e-06, 9.99995904e-01],\n",
       "       [5.73518594e-03, 9.94264814e-01],\n",
       "       [7.57372267e-08, 9.99999924e-01],\n",
       "       [3.03683830e-03, 9.96963162e-01],\n",
       "       [2.27147454e-01, 7.72852546e-01],\n",
       "       [9.99875651e-01, 1.24348838e-04],\n",
       "       [2.51174347e-07, 9.99999749e-01],\n",
       "       [9.99999255e-01, 7.45035291e-07],\n",
       "       [5.21743478e-01, 4.78256522e-01],\n",
       "       [1.22982798e-01, 8.77017202e-01],\n",
       "       [4.82979249e-07, 9.99999517e-01],\n",
       "       [9.98277942e-01, 1.72205789e-03],\n",
       "       [3.90358885e-03, 9.96096411e-01],\n",
       "       [9.99854451e-01, 1.45549407e-04],\n",
       "       [3.38233826e-07, 9.99999662e-01],\n",
       "       [9.99915705e-01, 8.42949282e-05],\n",
       "       [8.49500185e-03, 9.91504998e-01],\n",
       "       [2.75215759e-03, 9.97247842e-01],\n",
       "       [9.75143859e-01, 2.48561406e-02],\n",
       "       [4.72622642e-02, 9.52737736e-01],\n",
       "       [9.92820276e-01, 7.17972384e-03],\n",
       "       [7.48757528e-03, 9.92512425e-01],\n",
       "       [4.75975604e-02, 9.52402440e-01],\n",
       "       [9.89914803e-01, 1.00851972e-02],\n",
       "       [6.76719888e-03, 9.93232801e-01],\n",
       "       [3.15319889e-07, 9.99999685e-01],\n",
       "       [9.99945404e-01, 5.45956284e-05],\n",
       "       [8.75673860e-01, 1.24326140e-01],\n",
       "       [2.46106591e-08, 9.99999975e-01],\n",
       "       [1.13254389e-01, 8.86745611e-01],\n",
       "       [6.98271210e-03, 9.93017288e-01],\n",
       "       [4.41011342e-03, 9.95589887e-01],\n",
       "       [4.41378931e-02, 9.55862107e-01],\n",
       "       [7.41013375e-03, 9.92589866e-01],\n",
       "       [1.68107651e-07, 9.99999832e-01],\n",
       "       [1.76529914e-01, 8.23470086e-01],\n",
       "       [5.10119824e-02, 9.48988018e-01],\n",
       "       [1.84799731e-02, 9.81520027e-01],\n",
       "       [9.47066923e-08, 9.99999905e-01],\n",
       "       [1.25589782e-05, 9.99987441e-01],\n",
       "       [9.98881600e-01, 1.11839958e-03],\n",
       "       [9.70927835e-01, 2.90721651e-02],\n",
       "       [9.98676134e-01, 1.32386564e-03],\n",
       "       [9.00156755e-02, 9.09984324e-01],\n",
       "       [1.19093329e-01, 8.80906671e-01],\n",
       "       [1.29374101e-06, 9.99998706e-01],\n",
       "       [9.98193710e-01, 1.80628950e-03],\n",
       "       [9.99244166e-01, 7.55833759e-04],\n",
       "       [2.22281892e-09, 9.99999998e-01],\n",
       "       [1.29171501e-05, 9.99987083e-01],\n",
       "       [4.42290894e-06, 9.99995577e-01],\n",
       "       [2.01466393e-02, 9.79853361e-01],\n",
       "       [1.86879931e-01, 8.13120069e-01],\n",
       "       [9.99340804e-01, 6.59196071e-04],\n",
       "       [9.99988872e-01, 1.11284732e-05],\n",
       "       [4.31458535e-02, 9.56854147e-01],\n",
       "       [4.01184286e-02, 9.59881571e-01],\n",
       "       [9.99999900e-01, 1.00000010e-07],\n",
       "       [9.98739023e-01, 1.26097712e-03],\n",
       "       [5.00000000e-01, 5.00000000e-01],\n",
       "       [9.99999580e-01, 4.19852019e-07],\n",
       "       [9.99999900e-01, 1.00000010e-07],\n",
       "       [1.09119954e-01, 8.90880046e-01],\n",
       "       [1.87349071e-01, 8.12650929e-01],\n",
       "       [1.17688460e-05, 9.99988231e-01],\n",
       "       [9.99999499e-01, 5.00926144e-07],\n",
       "       [2.29109745e-09, 9.99999998e-01],\n",
       "       [9.93962998e-01, 6.03700167e-03],\n",
       "       [9.92898271e-01, 7.10172933e-03],\n",
       "       [3.45585323e-01, 6.54414677e-01],\n",
       "       [2.04030519e-02, 9.79596948e-01],\n",
       "       [6.93145843e-01, 3.06854157e-01],\n",
       "       [4.42200098e-01, 5.57799902e-01],\n",
       "       [9.99536272e-01, 4.63728351e-04],\n",
       "       [1.77241531e-02, 9.82275847e-01],\n",
       "       [9.99949343e-01, 5.06566476e-05],\n",
       "       [5.78333477e-01, 4.21666523e-01],\n",
       "       [9.79530446e-01, 2.04695536e-02],\n",
       "       [2.57805046e-07, 9.99999742e-01],\n",
       "       [2.18142263e-02, 9.78185774e-01],\n",
       "       [6.00139295e-06, 9.99993999e-01],\n",
       "       [9.99839128e-01, 1.60872027e-04],\n",
       "       [1.94286445e-02, 9.80571356e-01],\n",
       "       [3.37664571e-03, 9.96623354e-01],\n",
       "       [5.43878637e-01, 4.56121363e-01],\n",
       "       [9.72984576e-01, 2.70154241e-02],\n",
       "       [1.53345060e-01, 8.46654940e-01],\n",
       "       [2.19217004e-06, 9.99997808e-01],\n",
       "       [2.86855655e-01, 7.13144345e-01],\n",
       "       [2.63733636e-02, 9.73626636e-01],\n",
       "       [2.48606077e-02, 9.75139392e-01],\n",
       "       [2.54177637e-07, 9.99999746e-01],\n",
       "       [4.35782156e-03, 9.95642178e-01],\n",
       "       [2.71235516e-03, 9.97287645e-01],\n",
       "       [5.60213514e-02, 9.43978649e-01],\n",
       "       [7.16760479e-01, 2.83239521e-01],\n",
       "       [1.62462659e-05, 9.99983754e-01],\n",
       "       [2.68808815e-03, 9.97311912e-01],\n",
       "       [9.99619032e-01, 3.80967782e-04],\n",
       "       [9.99980135e-01, 1.98650975e-05],\n",
       "       [9.96088787e-01, 3.91121343e-03],\n",
       "       [1.83457223e-02, 9.81654278e-01],\n",
       "       [3.34949840e-03, 9.96650502e-01],\n",
       "       [7.17941091e-03, 9.92820589e-01],\n",
       "       [1.40042169e-05, 9.99985996e-01],\n",
       "       [1.80831748e-01, 8.19168252e-01],\n",
       "       [2.60680420e-03, 9.97393196e-01],\n",
       "       [1.40757612e-02, 9.85924239e-01],\n",
       "       [9.04184002e-11, 1.00000000e+00],\n",
       "       [7.12769962e-03, 9.92872300e-01],\n",
       "       [8.85783907e-02, 9.11421609e-01],\n",
       "       [9.24464383e-11, 1.00000000e+00],\n",
       "       [2.38991671e-07, 9.99999761e-01],\n",
       "       [3.89884558e-06, 9.99996101e-01],\n",
       "       [1.10338951e-01, 8.89661049e-01],\n",
       "       [4.29539815e-03, 9.95704602e-01],\n",
       "       [1.88099283e-01, 8.11900717e-01],\n",
       "       [9.99999625e-01, 3.74680325e-07],\n",
       "       [9.99970183e-01, 2.98166871e-05],\n",
       "       [1.84066648e-02, 9.81593335e-01],\n",
       "       [9.99560140e-01, 4.39860083e-04],\n",
       "       [4.56436506e-08, 9.99999954e-01],\n",
       "       [6.83847802e-03, 9.93161522e-01],\n",
       "       [1.14789114e-02, 9.88521089e-01],\n",
       "       [8.69389251e-02, 9.13061075e-01],\n",
       "       [9.43698407e-01, 5.63015927e-02],\n",
       "       [9.99984789e-01, 1.52113934e-05],\n",
       "       [1.57786196e-02, 9.84221380e-01],\n",
       "       [1.26716732e-08, 9.99999987e-01],\n",
       "       [9.89555060e-01, 1.04449396e-02],\n",
       "       [9.96232625e-01, 3.76737537e-03],\n",
       "       [4.42893073e-02, 9.55710693e-01],\n",
       "       [9.63834646e-01, 3.61653540e-02],\n",
       "       [4.57385234e-01, 5.42614766e-01],\n",
       "       [7.64397771e-01, 2.35602229e-01],\n",
       "       [2.37942035e-02, 9.76205797e-01],\n",
       "       [9.99996998e-01, 3.00200725e-06],\n",
       "       [1.16510513e-01, 8.83489487e-01],\n",
       "       [9.55969427e-03, 9.90440306e-01],\n",
       "       [2.05968385e-02, 9.79403161e-01],\n",
       "       [9.89494025e-01, 1.05059752e-02],\n",
       "       [8.11295621e-01, 1.88704379e-01],\n",
       "       [3.53920178e-01, 6.46079822e-01],\n",
       "       [1.47056366e-02, 9.85294363e-01],\n",
       "       [1.33138701e-06, 9.99998669e-01],\n",
       "       [1.07767625e-01, 8.92232375e-01],\n",
       "       [9.99999607e-01, 3.92878915e-07],\n",
       "       [1.85367868e-01, 8.14632132e-01],\n",
       "       [5.55689211e-03, 9.94443108e-01],\n",
       "       [1.43752138e-01, 8.56247862e-01],\n",
       "       [1.61484815e-06, 9.99998385e-01],\n",
       "       [6.52181382e-03, 9.93478186e-01],\n",
       "       [2.64829714e-02, 9.73517029e-01],\n",
       "       [5.78879848e-03, 9.94211202e-01],\n",
       "       [9.99971816e-01, 2.81838344e-05],\n",
       "       [2.65689467e-06, 9.99997343e-01],\n",
       "       [9.99999900e-01, 1.00000010e-07],\n",
       "       [9.35029951e-10, 9.99999999e-01],\n",
       "       [9.84062686e-07, 9.99999016e-01],\n",
       "       [9.99999343e-01, 6.57322519e-07]])"
      ]
     },
     "execution_count": 66,
     "metadata": {},
     "output_type": "execute_result"
    }
   ],
   "source": [
    "y_test_pred_prob"
   ]
  },
  {
   "cell_type": "code",
   "execution_count": 67,
   "metadata": {},
   "outputs": [],
   "source": [
    "# Probability for the positive outcome\n",
    "prob = y_test_pred_prob[:, 1]"
   ]
  },
  {
   "cell_type": "markdown",
   "metadata": {},
   "source": [
    "# ROC curve"
   ]
  },
  {
   "cell_type": "code",
   "execution_count": 68,
   "metadata": {},
   "outputs": [],
   "source": [
    "FPR, TPR, THR = roc_curve(y_test, prob)"
   ]
  },
  {
   "cell_type": "code",
   "execution_count": 69,
   "metadata": {},
   "outputs": [
    {
     "data": {
      "text/plain": [
       "(array([0.    , 0.    , 0.    , 0.0125, 0.0125, 0.025 , 0.025 , 0.0375,\n",
       "        0.0375, 0.05  , 0.05  , 0.0625, 0.0625, 0.075 , 0.075 , 0.95  ,\n",
       "        1.    ]),\n",
       " array([0.        , 0.00675676, 0.86486486, 0.86486486, 0.87162162,\n",
       "        0.87162162, 0.93243243, 0.93243243, 0.95945946, 0.95945946,\n",
       "        0.97972973, 0.97972973, 0.99324324, 0.99324324, 1.        ,\n",
       "        1.        , 1.        ]),\n",
       " array([2.00000000e+00, 1.00000000e+00, 8.86745611e-01, 8.83489487e-01,\n",
       "        8.80906671e-01, 8.77017202e-01, 8.04762282e-01, 7.72852546e-01,\n",
       "        6.46079822e-01, 5.57799902e-01, 5.00000000e-01, 4.78256522e-01,\n",
       "        4.21666523e-01, 4.12906265e-01, 3.06854157e-01, 1.13393888e-07,\n",
       "        1.00000010e-07]))"
      ]
     },
     "execution_count": 69,
     "metadata": {},
     "output_type": "execute_result"
    }
   ],
   "source": [
    "FPR, TPR, THR"
   ]
  },
  {
   "cell_type": "code",
   "execution_count": 70,
   "metadata": {},
   "outputs": [
    {
     "data": {
      "text/plain": [
       "<matplotlib.legend.Legend at 0x2cebe50a160>"
      ]
     },
     "execution_count": 70,
     "metadata": {},
     "output_type": "execute_result"
    },
    {
     "data": {
      "image/png": "[encoded data removed]",
      "text/plain": [
       "<Figure size 432x288 with 1 Axes>"
      ]
     },
     "metadata": {
      "needs_background": "light"
     },
     "output_type": "display_data"
    }
   ],
   "source": [
    "plt.plot([0, 1], [0, 1], label=\"random guess\") # random model\n",
    "plt.plot(FPR, TPR,  '--', label= \"tunned svm with rbf\")\n",
    "plt.xlabel('FPR')\n",
    "plt.ylabel('TPR')\n",
    "plt.title('ROC Curve')\n",
    "plt.legend()"
   ]
  },
  {
   "cell_type": "markdown",
   "metadata": {},
   "source": [
    "# Area under the curve(AUC) for tunned SVM"
   ]
  },
  {
   "cell_type": "code",
   "execution_count": 72,
   "metadata": {},
   "outputs": [
    {
     "name": "stdout",
     "output_type": "stream",
     "text": [
      "AUC: 0.9609797297297298\n"
     ]
    }
   ],
   "source": [
    "\n",
    "print(\"AUC:\", roc_auc_score(y_test, y_test_pred))\n"
   ]
  }
 ],
 "metadata": {
  "kernelspec": {
   "display_name": "Python 3",
   "language": "python",
   "name": "python3"
  },
  "language_info": {
   "codemirror_mode": {
    "name": "ipython",
    "version": 3
   },
   "file_extension": ".py",
   "mimetype": "text/x-python",
   "name": "python",
   "nbconvert_exporter": "python",
   "pygments_lexer": "ipython3",
   "version": "3.7.4"
  },
  "toc": {
   "base_numbering": 1,
   "nav_menu": {},
   "number_sections": false,
   "sideBar": true,
   "skip_h1_title": false,
   "title_cell": "Table of Contents",
   "title_sidebar": "Contents",
   "toc_cell": false,
   "toc_position": {},
   "toc_section_display": true,
   "toc_window_display": false
  },
  "varInspector": {
   "cols": {
    "lenName": 16,
    "lenType": 16,
    "lenVar": 40
   },
   "kernels_config": {
    "python": {
     "delete_cmd_postfix": "",
     "delete_cmd_prefix": "del ",
     "library": "var_list.py",
     "varRefreshCmd": "print(var_dic_list())"
    },
    "r": {
     "delete_cmd_postfix": ") ",
     "delete_cmd_prefix": "rm(",
     "library": "var_list.r",
     "varRefreshCmd": "cat(var_dic_list()) "
    }
   },
   "types_to_exclude": [
    "module",
    "function",
    "builtin_function_or_method",
    "instance",
    "_Feature"
   ],
   "window_display": false
  }
 },
 "nbformat": 4,
 "nbformat_minor": 2
}
